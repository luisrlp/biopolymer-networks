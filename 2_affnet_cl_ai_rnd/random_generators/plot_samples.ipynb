{
 "cells": [
  {
   "cell_type": "code",
   "execution_count": 57,
   "metadata": {},
   "outputs": [],
   "source": [
    "import matplotlib.pyplot as plt\n",
    "import numpy as np\n",
    "import os"
   ]
  },
  {
   "cell_type": "code",
   "execution_count": 58,
   "metadata": {},
   "outputs": [
    {
     "data": {
      "text/plain": [
       "(500,)"
      ]
     },
     "execution_count": 58,
     "metadata": {},
     "output_type": "execute_result"
    }
   ],
   "source": [
    "file_name = 'data.out'\n",
    "\n",
    "with open(file_name, 'r') as file:\n",
    "    file_values = [float(line.strip()) for line in file]\n",
    "\n",
    "data = np.array(file_values)\n",
    "data.shape"
   ]
  },
  {
   "cell_type": "code",
   "execution_count": 59,
   "metadata": {},
   "outputs": [
    {
     "data": {
      "text/plain": [
       "(array([ 9., 18., 40., 87., 89., 89., 90., 39., 30.,  9.]),\n",
       " array([27. , 30.3, 33.6, 36.9, 40.2, 43.5, 46.8, 50.1, 53.4, 56.7, 60. ]),\n",
       " <BarContainer object of 10 artists>)"
      ]
     },
     "execution_count": 59,
     "metadata": {},
     "output_type": "execute_result"
    },
    {
     "data": {
      "image/png": "[encoded data removed]",
      "text/plain": [
       "<Figure size 432x288 with 1 Axes>"
      ]
     },
     "metadata": {
      "needs_background": "light"
     },
     "output_type": "display_data"
    }
   ],
   "source": [
    "plt.hist(data, bins=10)"
   ]
  },
  {
   "cell_type": "code",
   "execution_count": 60,
   "metadata": {},
   "outputs": [
    {
     "data": {
      "text/plain": [
       "(500,)"
      ]
     },
     "execution_count": 60,
     "metadata": {},
     "output_type": "execute_result"
    }
   ],
   "source": [
    "file_name = 'data2.out'\n",
    "\n",
    "with open(file_name, 'r') as file:\n",
    "    file_values = [float(line.strip()) for line in file]\n",
    "\n",
    "data2 = np.array(file_values)\n",
    "data2.shape"
   ]
  },
  {
   "cell_type": "code",
   "execution_count": 61,
   "metadata": {},
   "outputs": [
    {
     "data": {
      "text/plain": [
       "(array([ 9., 18., 40., 87., 89., 89., 90., 39., 30.,  9.]),\n",
       " array([-0.385383 , -0.3102632, -0.2351434, -0.1600236, -0.0849038,\n",
       "        -0.009784 ,  0.0653358,  0.1404556,  0.2155754,  0.2906952,\n",
       "         0.365815 ]),\n",
       " <BarContainer object of 10 artists>)"
      ]
     },
     "execution_count": 61,
     "metadata": {},
     "output_type": "execute_result"
    },
    {
     "data": {
      "image/png": "[encoded data removed]",
      "text/plain": [
       "<Figure size 432x288 with 1 Axes>"
      ]
     },
     "metadata": {
      "needs_background": "light"
     },
     "output_type": "display_data"
    }
   ],
   "source": [
    "plt.hist(data2)"
   ]
  },
  {
   "cell_type": "code",
   "execution_count": 62,
   "metadata": {},
   "outputs": [],
   "source": [
    "max = data.max()\n",
    "min = data.min()\n",
    "\n",
    "lbound = 0\n",
    "ubound = 1\n",
    "\n",
    "data_bound = lbound + (data - min) / data.ptp() * (ubound - lbound)"
   ]
  },
  {
   "cell_type": "code",
   "execution_count": 63,
   "metadata": {},
   "outputs": [
    {
     "data": {
      "text/plain": [
       "(array([ 7.,  5., 15., 24., 36., 67., 53., 71., 54., 50., 52., 27., 21.,\n",
       "        10.,  8.]),\n",
       " array([0.        , 0.06666667, 0.13333333, 0.2       , 0.26666667,\n",
       "        0.33333333, 0.4       , 0.46666667, 0.53333333, 0.6       ,\n",
       "        0.66666667, 0.73333333, 0.8       , 0.86666667, 0.93333333,\n",
       "        1.        ]),\n",
       " <BarContainer object of 15 artists>)"
      ]
     },
     "execution_count": 63,
     "metadata": {},
     "output_type": "execute_result"
    },
    {
     "data": {
      "image/png": "[encoded data removed]",
      "text/plain": [
       "<Figure size 432x288 with 1 Axes>"
      ]
     },
     "metadata": {
      "needs_background": "light"
     },
     "output_type": "display_data"
    }
   ],
   "source": [
    "plt.hist(data_bound, bins=15)"
   ]
  },
  {
   "cell_type": "code",
   "execution_count": 64,
   "metadata": {},
   "outputs": [
    {
     "data": {
      "text/plain": [
       "array([0.63636364, 0.33333333, 0.39393939, 0.48484848, 0.54545455,\n",
       "       0.33333333, 0.51515152, 0.72727273, 0.51515152, 0.81818182,\n",
       "       0.45454545, 0.96969697, 0.36363636, 0.18181818, 0.39393939,\n",
       "       0.51515152, 0.75757576, 0.36363636, 0.57575758, 0.51515152,\n",
       "       0.45454545, 0.63636364, 0.6969697 , 0.57575758, 0.15151515,\n",
       "       0.63636364, 0.87878788, 0.45454545, 0.90909091, 0.45454545,\n",
       "       0.42424242, 0.45454545, 0.48484848, 0.48484848, 0.78787879,\n",
       "       0.3030303 , 0.45454545, 0.54545455, 0.48484848, 0.21212121,\n",
       "       0.57575758, 0.60606061, 0.3030303 , 0.33333333, 0.78787879,\n",
       "       0.48484848, 0.6969697 , 0.66666667, 0.6969697 , 0.45454545,\n",
       "       0.39393939, 0.39393939, 0.57575758, 0.60606061, 0.72727273,\n",
       "       0.36363636, 0.66666667, 0.03030303, 1.        , 0.57575758,\n",
       "       0.51515152, 0.24242424, 0.27272727, 0.87878788, 0.48484848,\n",
       "       0.63636364, 0.6969697 , 0.63636364, 0.51515152, 0.63636364,\n",
       "       0.6969697 , 0.12121212, 0.54545455, 0.81818182, 0.45454545,\n",
       "       0.39393939, 0.75757576, 0.87878788, 0.03030303, 0.45454545,\n",
       "       0.60606061, 0.63636364, 0.63636364, 0.51515152, 0.36363636,\n",
       "       0.93939394, 0.51515152, 0.60606061, 0.36363636, 0.81818182,\n",
       "       0.3030303 , 0.60606061, 0.81818182, 0.24242424, 0.78787879,\n",
       "       0.45454545, 0.57575758, 0.06060606, 0.15151515, 0.60606061,\n",
       "       0.45454545, 0.39393939, 0.57575758, 0.51515152, 0.45454545,\n",
       "       0.24242424, 0.81818182, 0.72727273, 0.81818182, 0.54545455,\n",
       "       0.33333333, 0.81818182, 0.3030303 , 0.63636364, 0.78787879,\n",
       "       0.45454545, 0.81818182, 0.33333333, 0.21212121, 0.3030303 ,\n",
       "       0.93939394, 0.        , 0.21212121, 0.48484848, 0.36363636,\n",
       "       0.18181818, 0.51515152, 0.81818182, 0.48484848, 0.21212121,\n",
       "       0.36363636, 0.54545455, 0.63636364, 0.3030303 , 0.42424242,\n",
       "       0.42424242, 0.3030303 , 0.39393939, 0.51515152, 0.51515152,\n",
       "       0.72727273, 0.54545455, 0.36363636, 0.33333333, 0.33333333,\n",
       "       0.15151515, 0.36363636, 0.48484848, 0.18181818, 0.27272727,\n",
       "       0.63636364, 0.57575758, 0.66666667, 0.60606061, 0.66666667,\n",
       "       0.63636364, 0.60606061, 0.57575758, 0.60606061, 0.51515152,\n",
       "       0.66666667, 0.54545455, 0.42424242, 0.39393939, 0.48484848,\n",
       "       0.36363636, 0.48484848, 0.93939394, 0.42424242, 0.60606061,\n",
       "       0.48484848, 0.36363636, 0.84848485, 0.51515152, 0.45454545,\n",
       "       0.45454545, 0.3030303 , 0.54545455, 0.57575758, 0.6969697 ,\n",
       "       0.87878788, 0.3030303 , 0.75757576, 0.51515152, 0.3030303 ,\n",
       "       0.60606061, 0.48484848, 0.42424242, 0.45454545, 0.57575758,\n",
       "       0.12121212, 0.48484848, 0.3030303 , 0.72727273, 0.36363636,\n",
       "       0.45454545, 0.33333333, 0.66666667, 0.75757576, 0.09090909,\n",
       "       0.39393939, 0.87878788, 0.54545455, 0.57575758, 0.39393939,\n",
       "       0.27272727, 0.36363636, 0.3030303 , 0.66666667, 0.57575758,\n",
       "       0.48484848, 0.48484848, 0.39393939, 0.42424242, 0.42424242,\n",
       "       0.48484848, 0.78787879, 0.57575758, 0.42424242, 0.21212121,\n",
       "       0.51515152, 0.84848485, 0.57575758, 0.63636364, 0.66666667,\n",
       "       0.66666667, 0.63636364, 0.54545455, 0.36363636, 0.39393939,\n",
       "       0.42424242, 0.48484848, 0.66666667, 0.66666667, 0.57575758,\n",
       "       0.57575758, 0.66666667, 0.51515152, 0.66666667, 0.3030303 ,\n",
       "       0.57575758, 0.21212121, 0.33333333, 0.57575758, 0.54545455,\n",
       "       0.39393939, 0.51515152, 0.27272727, 0.48484848, 0.45454545,\n",
       "       0.36363636, 0.63636364, 0.66666667, 0.57575758, 0.54545455,\n",
       "       0.57575758, 0.81818182, 0.48484848, 0.57575758, 0.21212121,\n",
       "       0.63636364, 0.36363636, 0.57575758, 0.24242424, 0.72727273,\n",
       "       0.54545455, 0.51515152, 0.51515152, 0.45454545, 0.63636364,\n",
       "       0.66666667, 0.18181818, 1.        , 0.27272727, 0.3030303 ,\n",
       "       0.36363636, 0.72727273, 0.45454545, 0.51515152, 0.63636364,\n",
       "       0.78787879, 0.51515152, 0.63636364, 0.66666667, 0.3030303 ,\n",
       "       0.39393939, 0.57575758, 0.48484848, 0.60606061, 0.60606061,\n",
       "       0.15151515, 0.54545455, 0.39393939, 0.27272727, 0.42424242,\n",
       "       0.63636364, 0.33333333, 0.33333333, 0.48484848, 0.57575758,\n",
       "       0.63636364, 0.54545455, 0.57575758, 0.21212121, 0.72727273,\n",
       "       0.66666667, 0.72727273, 0.24242424, 0.54545455, 0.63636364,\n",
       "       0.87878788, 0.09090909, 0.60606061, 0.51515152, 0.6969697 ,\n",
       "       0.42424242, 0.42424242, 0.18181818, 0.48484848, 0.36363636,\n",
       "       0.81818182, 0.33333333, 0.45454545, 0.72727273, 0.18181818,\n",
       "       0.6969697 , 0.24242424, 0.06060606, 0.51515152, 0.        ,\n",
       "       0.48484848, 0.18181818, 0.60606061, 0.24242424, 0.39393939,\n",
       "       0.78787879, 0.21212121, 0.48484848, 0.3030303 , 0.6969697 ,\n",
       "       0.60606061, 0.42424242, 0.87878788, 0.48484848, 0.75757576,\n",
       "       0.63636364, 0.51515152, 0.42424242, 0.75757576, 0.78787879,\n",
       "       0.6969697 , 0.39393939, 0.33333333, 0.66666667, 0.48484848,\n",
       "       0.21212121, 0.48484848, 0.15151515, 0.81818182, 0.81818182,\n",
       "       0.75757576, 0.42424242, 0.27272727, 0.6969697 , 0.87878788,\n",
       "       0.45454545, 0.42424242, 0.63636364, 0.51515152, 0.42424242,\n",
       "       0.48484848, 0.66666667, 0.51515152, 0.15151515, 0.57575758,\n",
       "       0.21212121, 0.63636364, 0.27272727, 0.72727273, 0.48484848,\n",
       "       0.42424242, 0.63636364, 0.33333333, 0.24242424, 0.75757576,\n",
       "       0.36363636, 0.66666667, 0.6969697 , 0.48484848, 0.45454545,\n",
       "       0.72727273, 0.54545455, 0.75757576, 0.27272727, 0.42424242,\n",
       "       0.48484848, 0.51515152, 0.33333333, 0.54545455, 0.81818182,\n",
       "       0.24242424, 0.78787879, 0.21212121, 0.51515152, 0.57575758,\n",
       "       0.27272727, 0.42424242, 0.78787879, 0.33333333, 0.33333333,\n",
       "       0.27272727, 0.12121212, 0.60606061, 0.3030303 , 0.60606061,\n",
       "       0.51515152, 0.54545455, 0.51515152, 0.36363636, 0.78787879,\n",
       "       0.87878788, 0.66666667, 0.3030303 , 0.6969697 , 0.63636364,\n",
       "       0.57575758, 0.45454545, 0.45454545, 0.51515152, 0.33333333,\n",
       "       0.57575758, 0.36363636, 0.27272727, 0.6969697 , 0.33333333,\n",
       "       0.3030303 , 0.57575758, 0.33333333, 0.27272727, 0.51515152,\n",
       "       0.36363636, 0.54545455, 0.84848485, 0.45454545, 0.45454545,\n",
       "       0.45454545, 0.78787879, 0.57575758, 0.33333333, 0.81818182,\n",
       "       0.66666667, 0.66666667, 0.60606061, 0.27272727, 0.42424242,\n",
       "       0.84848485, 0.93939394, 0.03030303, 0.39393939, 0.27272727,\n",
       "       0.75757576, 0.18181818, 0.54545455, 0.33333333, 0.66666667,\n",
       "       0.63636364, 0.51515152, 0.96969697, 0.63636364, 0.21212121,\n",
       "       0.42424242, 0.78787879, 0.66666667, 0.48484848, 0.18181818,\n",
       "       0.48484848, 0.63636364, 0.33333333, 0.48484848, 0.75757576,\n",
       "       0.39393939, 0.24242424, 0.63636364, 0.51515152, 0.45454545,\n",
       "       0.84848485, 0.36363636, 0.81818182, 0.78787879, 0.24242424,\n",
       "       0.42424242, 0.54545455, 0.66666667, 0.39393939, 0.75757576,\n",
       "       0.78787879, 0.27272727, 0.48484848, 0.39393939, 0.3030303 ])"
      ]
     },
     "execution_count": 64,
     "metadata": {},
     "output_type": "execute_result"
    }
   ],
   "source": [
    "data_bound"
   ]
  },
  {
   "cell_type": "code",
   "execution_count": null,
   "metadata": {},
   "outputs": [],
   "source": []
  }
 ],
 "metadata": {
  "kernelspec": {
   "display_name": "Python 3",
   "language": "python",
   "name": "python3"
  },
  "language_info": {
   "codemirror_mode": {
    "name": "ipython",
    "version": 3
   },
   "file_extension": ".py",
   "mimetype": "text/x-python",
   "name": "python",
   "nbconvert_exporter": "python",
   "pygments_lexer": "ipython3",
   "version": "3.6.8"
  }
 },
 "nbformat": 4,
 "nbformat_minor": 2
}
